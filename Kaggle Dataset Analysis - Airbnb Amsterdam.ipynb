{
 "cells": [
  {
   "cell_type": "markdown",
   "id": "77c4ff4d",
   "metadata": {},
   "source": [
    "# Kaggle Dataset Analysis"
   ]
  },
  {
   "cell_type": "markdown",
   "id": "a2eae31c",
   "metadata": {},
   "source": [
    "## <span style=\"color:navy\"> Author Information </span>\n",
    "- **Full name:** Alejandro Donaire Salvador\n",
    "- **University ID (NIU):** 1600697\n",
    "- **Personal e-mail:** aledonairesa@gmail.com"
   ]
  },
  {
   "cell_type": "markdown",
   "id": "44b471f5",
   "metadata": {},
   "source": [
    "## <span style=\"color:navy\"> 1. Introduction </span>\n",
    "\n",
    "### <span style=\"color:#32CAEC\"> 1.1 Basic information about the dataset </span>\n",
    "\n",
    "The dataset is called \"Airbnb Amsterdam\" and can be found here: https://www.kaggle.com/datasets/erikbruin/airbnb-amsterdam. The data dates from December 6th, 2018 and comes from http://insideairbnb.com/. It weighs about 0.4GB and has been downloaded +4000 times in Kaggle as per November 2022.\n",
    "\n",
    "### <span style=\"color:#32CAEC\"> 1.2 What is Airbnb? </span>\n",
    "\n",
    "Airbnb is a **public company** that manages an **online marketplace** (a type of e-commerce) focused on **short-term homestays and experiences**. It is based in San Francisco, California, and was founded in 2008 by Brian Chesky and others. It currently serves worldwide and **accounts for more than 20% of the vacation rental industry** as a whole. *Sources: https://en.wikipedia.org/wiki/Airbnb and https://hospitable.com/competitors-for-airbnb/*.\n",
    "\n",
    "Here's its logo:\n",
    "<img src=\"airbnblogo.png\" alt=\"drawing\" width=\"250\"/>\n",
    "\n",
    "### <span style=\"color:#32CAEC\"> 1.3 About Amsterdam </span>\n",
    "\n",
    "Amsterdam is the **capital and most populous city of the Netherlands** (northwestern Europe). Its **population is about 910k** people as per the city proper and has a large number of canals and bodies of water. Its climate is oceanic, meaning that it's humid, the summers are cool (about 20ºC), the winters are mild (about 5ºC) and the annual temperature is relatively narrow. *Sources: https://en.wikipedia.org/wiki/Amsterdam and https://www.wolframalpha.com/input?key=&i=climate+Amsterdam*.\n",
    "\n",
    "Here's a picture of the map of Amsterdam with Airbnb home/apartments (red dots) and private rooms (green dots) as per September 2022 (*Source: http://insideairbnb.com/amsterdam*):\n",
    "\n",
    "<img src=\"amsterdamairbnb.png\" alt=\"drawing\" width=\"450\"/>\n",
    "\n",
    "### <span style=\"color:#32CAEC\"> 1.4 Detailed information about the dataset </span>"
   ]
  },
  {
   "cell_type": "code",
   "execution_count": null,
   "id": "9fe04519",
   "metadata": {},
   "outputs": [],
   "source": []
  },
  {
   "cell_type": "code",
   "execution_count": null,
   "id": "467ed83d",
   "metadata": {},
   "outputs": [],
   "source": []
  },
  {
   "cell_type": "code",
   "execution_count": null,
   "id": "81ebf3d9",
   "metadata": {},
   "outputs": [],
   "source": []
  }
 ],
 "metadata": {
  "kernelspec": {
   "display_name": "Python 3",
   "language": "python",
   "name": "python3"
  },
  "language_info": {
   "codemirror_mode": {
    "name": "ipython",
    "version": 3
   },
   "file_extension": ".py",
   "mimetype": "text/x-python",
   "name": "python",
   "nbconvert_exporter": "python",
   "pygments_lexer": "ipython3",
   "version": "3.8.8"
  }
 },
 "nbformat": 4,
 "nbformat_minor": 5
}
