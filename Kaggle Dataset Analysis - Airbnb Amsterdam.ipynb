{
 "cells": [
  {
   "cell_type": "markdown",
   "id": "d613bc2d",
   "metadata": {},
   "source": [
    "# Kaggle Dataset Analysis"
   ]
  },
  {
   "cell_type": "markdown",
   "id": "3cafba67",
   "metadata": {},
   "source": [
    "## <span style=\"color:navy\"> Author Information </span>\n",
    "- **Full name:** Alejandro Donaire Salvador\n",
    "- **University ID (NIU):** 1600697\n",
    "- **Personal e-mail:** aledonairesa@gmail.com"
   ]
  },
  {
   "cell_type": "markdown",
   "id": "f6a79e28",
   "metadata": {},
   "source": [
    "## <span style=\"color:navy\"> 1. Introduction </span>\n",
    "\n",
    "### <span style=\"color:#32CAEC\"> 1.1 The dataset basic information </span>\n",
    "\n",
    "The dataset is called \"Airbnb Amsterdam\" and can be found here: https://www.kaggle.com/datasets/erikbruin/airbnb-amsterdam. The data dates from December 6th, 2018 and comes from insideairbnb.com. It weighs about 0.4GB and has been downloaded +4000 times in Kaggle as per November 2022.\n",
    "\n",
    "### <span style=\"color:#32CAEC\"> 1.2 What is Airbnb? </span>\n",
    "\n",
    "### <span style=\"color:#32CAEC\"> 1.X Detailed information about the dataset </span>"
   ]
  },
  {
   "cell_type": "code",
   "execution_count": null,
   "id": "bc75377c",
   "metadata": {},
   "outputs": [],
   "source": []
  }
 ],
 "metadata": {
  "kernelspec": {
   "display_name": "Python 3",
   "language": "python",
   "name": "python3"
  },
  "language_info": {
   "codemirror_mode": {
    "name": "ipython",
    "version": 3
   },
   "file_extension": ".py",
   "mimetype": "text/x-python",
   "name": "python",
   "nbconvert_exporter": "python",
   "pygments_lexer": "ipython3",
   "version": "3.8.8"
  }
 },
 "nbformat": 4,
 "nbformat_minor": 5
}
