{
 "cells": [
  {
   "cell_type": "markdown",
   "id": "2119a133",
   "metadata": {},
   "source": [
    "# Kaggle Dataset Analysis"
   ]
  },
  {
   "cell_type": "markdown",
   "id": "00e666fc",
   "metadata": {},
   "source": [
    "### <span style=\"color:#32CAEC\"> Contents </span>\n",
    "- 0. Author information\n",
    "- 1. Introduction\n",
    "    - 1.1 Basic information about the dataset\n",
    "    - 1.2 What is Airbnb?\n",
    "    - 1.3 About Amsterdam\n",
    "    - 1.4 Detailed information about the dataset\n",
    "- 2. Data loading and library imports\n",
    "    - 2.1 Library imports\n",
    "    - 2.2 Data loading\n",
    "- 3. How much data do we really have?"
   ]
  },
  {
   "cell_type": "markdown",
   "id": "63d38e83",
   "metadata": {},
   "source": [
    "## <span style=\"color:navy\"> 0. Author information </span>\n",
    "- **Full name:** Alejandro Donaire Salvador\n",
    "- **University ID (NIU):** 1600697\n",
    "- **Personal e-mail:** aledonairesa@gmail.com"
   ]
  },
  {
   "cell_type": "markdown",
   "id": "8f55f085",
   "metadata": {},
   "source": [
    "## <span style=\"color:navy\"> 1. Introduction </span>\n",
    "\n",
    "### <span style=\"color:#32CAEC\"> 1.1 Basic information about the dataset </span>\n",
    "\n",
    "The dataset is called \"Airbnb Amsterdam\" and can be found here: https://www.kaggle.com/datasets/erikbruin/airbnb-amsterdam. The data dates from December 6th, 2018 and comes from http://insideairbnb.com/. It weighs about 0.4GB and has been downloaded +4000 times in Kaggle as per November 2022.\n",
    "\n",
    "### <span style=\"color:#32CAEC\"> 1.2 What is Airbnb? </span>\n",
    "\n",
    "Airbnb is a **public company** that manages an **online marketplace** (a type of e-commerce) focused on **short-term homestays and experiences**. It is based in San Francisco, California, and was founded in 2008 by Brian Chesky and others. It currently serves worldwide and **accounts for more than 20% of the vacation rental industry** as a whole. *Sources: https://en.wikipedia.org/wiki/Airbnb and https://hospitable.com/competitors-for-airbnb/*.\n",
    "\n",
    "Here's its logo:\n",
    "<img src=\"images/airbnblogo.png\" alt=\"drawing\" width=\"250\"/>\n",
    "\n",
    "### <span style=\"color:#32CAEC\"> 1.3 About Amsterdam </span>\n",
    "\n",
    "Amsterdam is the **capital and most populous city of the Netherlands** (northwestern Europe). Its **population is about 910k** people as per the city proper and has a large number of canals and bodies of water. Its climate is oceanic, meaning that it's humid, the summers are cool (about 20ºC), the winters are mild (about 5ºC) and the annual temperature is relatively narrow. *Sources: https://en.wikipedia.org/wiki/Amsterdam and https://www.wolframalpha.com/input?key=&i=climate+Amsterdam*.\n",
    "\n",
    "Here's a picture of the map of Amsterdam with Airbnb home/apartments (red dots) and private rooms (green dots) as per September 2022 (*Source: http://insideairbnb.com/amsterdam*):\n",
    "\n",
    "<img src=\"images/amsterdamairbnb.png\" alt=\"drawing\" width=\"450\"/>\n",
    "\n",
    "### <span style=\"color:#32CAEC\"> 1.4 Detailed information about the dataset </span>\n",
    "\n",
    "The entire dataset consists of **6 `.csv` files**:\n",
    "- `listings.csv`\n",
    "- `listings_details.csv`\n",
    "- `calendar.csv`\n",
    "- `neighbourhoods.csv`\n",
    "- `reviews.csv`\n",
    "- `reviews_details.csv`\n",
    "\n",
    "And an a `neighbourhoods.geojson` file which can be used in conjunction with interactive maps (such as Leaflet for R of the Python folium package).\n",
    "\n",
    "We review each one of the `csv.` files in more detail now:\n",
    "\n",
    "**`listings.csv`**:\n",
    "\n",
    "All the advertisements in Amsterdam on December 6th 2018. It includes 20030 observations (advertisements) and 16 different attributes. The attributes are:\n",
    "- **id**\n",
    "- **name**\n",
    "- **host_id**\n",
    "- **host_name**\n",
    "- **neighbourhood_group**\n",
    "- **neighbourhood**\n",
    "- **latitude**\n",
    "- **longitude**\n",
    "- **room_type**\n",
    "- **price**\n",
    "- **minimum_nights**\n",
    "- **number_of_reviews**\n",
    "- **last_review**\n",
    "- **reviews_per_month**\n",
    "- **calculated_host_listings_count**\n",
    "- **availability_365**\n",
    "\n",
    "An advertisement can look like this in the official webpage (https://www.airbnb.com/amsterdam):\n",
    "\n",
    "<img src=\"images/advertisementairbnb.png\" alt=\"drawing\" width=\"250\"/>\n",
    "\n",
    "We can readily see its name, the number of reviews and the price per night among other pieces of information.\n",
    "\n",
    "\n",
    "**`listings_details.csv`**:\n",
    "\n",
    "An extension of `listings.csv`: more atributes corresponding to the advertisements in Amsterdam on December 6th 2018. It includes 20030 observations and 96 different attributes. All the atributes of `listings.csv` except \"neighbourhood_group\" are included in `listings_details.csv`. But since \"neighbourhood_group\" is a column with a 100% of NaNs, then in practice we can say that `listings.csv` is completely contained in `listings_details.csv`.  Some of the new attributes are:\n",
    "\n",
    "- **experiences_offered**\n",
    "- **house_rules**\n",
    "- **instant_bookable**\n",
    "- +93 attributes\n",
    "\n",
    "**`calendar.csv`**:\n",
    "\n",
    "It has 365 records for each listing (advertisement). It specifies whether the listing is available on a particular day (365 days ahead), and the price on that day. It consists of 7310950 observations (7.3M) and 4 attributes. The attributes are:\n",
    "\n",
    "- **listing_id**\n",
    "- **date**\n",
    "- **available**\n",
    "- **price**\n",
    "\n",
    "**`neighbourhoods.csv`**:\n",
    "\n",
    "Dutch names of the neighbouhoods. It includes 22 observations (neighbourhoods) and 2 attributes, one of which is 100% NaNs. The other attribute is:\n",
    "\n",
    "- **neighbourhood**\n",
    "\n",
    "\n",
    "**`reviews.csv`**:\n",
    "\n",
    "Dates of the reviews by listing. It can be used to count the number of reviews by listing (for a specific period). It consists of 431830 observations (reviews's dates) and 2 attributes. The attributes are:\n",
    "\n",
    "- **listing_id**\n",
    "- **date**\n",
    "\n",
    "\n",
    "**`reviews_details.csv`**:\n",
    "\n",
    "An extension of the \"reviews.csv\" file. It contains all the details of the reviews. It includes 431830 observations (reviews), just like the \"reviews.csv\" file, and 6 attributes. The attributes are:\n",
    "\n",
    "- **listing_id**\n",
    "- **date**\n",
    "- **id**\n",
    "- **reviewer_id**\n",
    "- **reviewer_name**\n",
    "- **comments**"
   ]
  },
  {
   "cell_type": "markdown",
   "id": "6720ccd5",
   "metadata": {},
   "source": [
    "## <span style=\"color:navy\"> 2. Data loading and library imports </span>\n",
    "\n",
    "Before starting to work with the data, let's import the necessary libraries and, of course, the data itself."
   ]
  },
  {
   "cell_type": "markdown",
   "id": "2596b731",
   "metadata": {},
   "source": [
    "### <span style=\"color:#32CAEC\"> 2.1 Library imports </span>"
   ]
  },
  {
   "cell_type": "code",
   "execution_count": 20,
   "id": "a8434b49",
   "metadata": {},
   "outputs": [],
   "source": [
    "import numpy as np\n",
    "import pandas as pd\n",
    "import missingno as msno\n",
    "np.warnings.filterwarnings('ignore')"
   ]
  },
  {
   "cell_type": "markdown",
   "id": "c1e8dafe",
   "metadata": {},
   "source": [
    "### <span style=\"color:#32CAEC\"> 2.2 Data loading </span>"
   ]
  },
  {
   "cell_type": "code",
   "execution_count": 21,
   "id": "44e95f03",
   "metadata": {},
   "outputs": [],
   "source": [
    "listings_df = pd.read_csv(\"data/listings.csv\", sep=\",\")\n",
    "listings_det_df = pd.read_csv(\"data/listings_details.csv\", sep=\",\") \n",
    "calendar_df = pd.read_csv(\"data/calendar.csv\", sep=\",\")\n",
    "neigh_df = pd.read_csv(\"data/neighbourhoods.csv\", sep=\",\")\n",
    "reviews_df = pd.read_csv(\"data/reviews.csv\", sep=\",\")\n",
    "reviews_det_df = pd.read_csv(\"data/reviews_details.csv\", sep=\",\")"
   ]
  },
  {
   "cell_type": "markdown",
   "id": "15680a93",
   "metadata": {},
   "source": [
    "## <span style=\"color:navy\"> 3. How much data do we really have? </span>\n",
    "\n",
    "Firstly, a priori we won't use the `.geojson` file, so we are left with 6 `.csv` files, 2 of which are contained in other files. This means we actually have **only 4 files**:\n",
    "\n",
    "- `listings_details.csv`\n",
    "- `calendar.csv`\n",
    "- `neighbourhoods.csv`\n",
    "- `reviews_details.csv`\n",
    "\n",
    "Let's see now how many unique attributes we have in these files."
   ]
  },
  {
   "cell_type": "code",
   "execution_count": 13,
   "id": "85634f2f",
   "metadata": {
    "scrolled": true
   },
   "outputs": [
    {
     "data": {
      "text/plain": [
       "103"
      ]
     },
     "execution_count": 13,
     "metadata": {},
     "output_type": "execute_result"
    }
   ],
   "source": [
    "# Counting the unique attributes\n",
    "len(set(list(listings_det_df.columns) +\\\n",
    "        list(reviews_det_df.columns) +\\\n",
    "        list(calendar_df.columns) +\\\n",
    "        list(neigh_df)))"
   ]
  },
  {
   "cell_type": "markdown",
   "id": "d6a8ada3",
   "metadata": {},
   "source": [
    "Some of these might contain NaNs, let's visualize them for each dataset."
   ]
  },
  {
   "cell_type": "code",
   "execution_count": 14,
   "id": "53dd7816",
   "metadata": {
    "scrolled": false
   },
   "outputs": [
    {
     "data": {
      "text/plain": [
       "<AxesSubplot:>"
      ]
     },
     "execution_count": 14,
     "metadata": {},
     "output_type": "execute_result"
    },
    {
     "data": {
      "image/png": "[encoded data removed]",
      "text/plain": [
       "<Figure size 1152x360 with 2 Axes>"
      ]
     },
     "metadata": {
      "needs_background": "light"
     },
     "output_type": "display_data"
    }
   ],
   "source": [
    "# listings_details.csv NaNs visualization\n",
    "msno.matrix(listings_det_df, figsize=(16, 5))"
   ]
  },
  {
   "cell_type": "code",
   "execution_count": 15,
   "id": "29bcf5d2",
   "metadata": {},
   "outputs": [
    {
     "data": {
      "text/plain": [
       "<AxesSubplot:>"
      ]
     },
     "execution_count": 15,
     "metadata": {},
     "output_type": "execute_result"
    },
    {
     "data": {
      "image/png": "[encoded data removed]",
      "text/plain": [
       "<Figure size 360x216 with 2 Axes>"
      ]
     },
     "metadata": {
      "needs_background": "light"
     },
     "output_type": "display_data"
    }
   ],
   "source": [
    "# reviews_details.csv NaNs visualization\n",
    "msno.matrix(reviews_det_df, figsize=(5, 3))"
   ]
  },
  {
   "cell_type": "code",
   "execution_count": 16,
   "id": "7dd4f339",
   "metadata": {},
   "outputs": [
    {
     "data": {
      "text/plain": [
       "<AxesSubplot:>"
      ]
     },
     "execution_count": 16,
     "metadata": {},
     "output_type": "execute_result"
    },
    {
     "data": {
      "image/png": "[encoded data removed]",
      "text/plain": [
       "<Figure size 360x216 with 2 Axes>"
      ]
     },
     "metadata": {
      "needs_background": "light"
     },
     "output_type": "display_data"
    }
   ],
   "source": [
    "# calendar.csv NaNs visualization\n",
    "msno.matrix(calendar_df, figsize=(5, 3))"
   ]
  },
  {
   "cell_type": "code",
   "execution_count": 17,
   "id": "7ce9866c",
   "metadata": {},
   "outputs": [
    {
     "data": {
      "text/plain": [
       "<AxesSubplot:>"
      ]
     },
     "execution_count": 17,
     "metadata": {},
     "output_type": "execute_result"
    },
    {
     "data": {
      "image/png": "[encoded data removed]",
      "text/plain": [
       "<Figure size 360x216 with 2 Axes>"
      ]
     },
     "metadata": {
      "needs_background": "light"
     },
     "output_type": "display_data"
    }
   ],
   "source": [
    "# neighbourhoods.csv NaNs visualization\n",
    "msno.matrix(neigh_df, figsize=(5, 3))"
   ]
  },
  {
   "cell_type": "markdown",
   "id": "a251015c",
   "metadata": {},
   "source": [
    "We see that in general there are **many NaNs** (white lines indicate NaNs). In particular, **there are columns with 100% NaNs** (white columns). These, naturally, won't be of any use for the analysis. Nor will be the columns with close to 100% NaNs. Let's put the **threshold at >95% NaNs**, namely, let's delete the columns with over a 95% NaNs. This might seem like a very high threshold, however, it is better to be careful not to delete too much information at the beggining. Now, we are simply doing a basic check of the useful information that we have a priori."
   ]
  },
  {
   "cell_type": "code",
   "execution_count": 22,
   "id": "7c97f994",
   "metadata": {},
   "outputs": [],
   "source": [
    "# Deleting the non-useful attributes (>95% NaNs)\n",
    "for dataset in [listings_det_df, reviews_det_df, calendar_df, neigh_df]:\n",
    "    for atr in dataset.columns:\n",
    "        nan_ratio = dataset[atr].isnull().sum()/len(listings_det_df)\n",
    "        if (nan_ratio > 0.95):\n",
    "            dataset.drop(atr, axis=1, inplace=True)"
   ]
  },
  {
   "cell_type": "markdown",
   "id": "34b86095",
   "metadata": {},
   "source": [
    "Let's count the attributes again."
   ]
  },
  {
   "cell_type": "code",
   "execution_count": 23,
   "id": "7510cb48",
   "metadata": {},
   "outputs": [
    {
     "data": {
      "text/plain": [
       "96"
      ]
     },
     "execution_count": 23,
     "metadata": {},
     "output_type": "execute_result"
    }
   ],
   "source": [
    "# Counting the unique attributes after deleting the non-useful attributes\n",
    "len(set(list(listings_det_df.columns) +\\\n",
    "        list(reviews_det_df.columns) +\\\n",
    "        list(calendar_df.columns) +\\\n",
    "        list(neigh_df)))"
   ]
  },
  {
   "cell_type": "markdown",
   "id": "c96b1442",
   "metadata": {},
   "source": [
    "So we are left with **4 datasets containing 96 different attributes** (in total) **that are potentially useful**."
   ]
  },
  {
   "cell_type": "markdown",
   "id": "5125c7a4",
   "metadata": {},
   "source": [
    "## <span style=\"color:navy\"> 4. The goal of this analysis </span>"
   ]
  },
  {
   "cell_type": "markdown",
   "id": "3d91e2d6",
   "metadata": {},
   "source": [
    "We haven't yet defined what's the goal of this analysis. Let's do it now that we know how much useful data we have (see section 3).\n",
    "\n",
    "**The goal**, which might come in the form of a variable that we want to predict, for example, **is not estipulated in the dataset's Kaggle webpage**. Therefore, we will have to look for ideas. **We would like our goals to direct ourselves to the extraction of useful, relevant and even actionable information from the dataset**. This is why **we need to study the attributes in more detail** and see what they tell us. This is what we are going to do next. **Then, we will identify and define the goals**."
   ]
  },
  {
   "cell_type": "markdown",
   "id": "7183db21",
   "metadata": {},
   "source": [
    "### <span style=\"color:#32CAEC\"> 4.1 Analysis of the attributes in more depth </span>"
   ]
  },
  {
   "cell_type": "code",
   "execution_count": null,
   "id": "3680e1b8",
   "metadata": {},
   "outputs": [],
   "source": [
    "# show a list of all the attributes and decide to keep them or not\n",
    "# based on kaggle's info, common sense\n",
    "# annotate next to each one why they might be useful or not useful, and if they might serve as goal\n",
    "# identify possible goals already."
   ]
  },
  {
   "cell_type": "code",
   "execution_count": null,
   "id": "5b2b0ab7",
   "metadata": {},
   "outputs": [],
   "source": []
  },
  {
   "cell_type": "markdown",
   "id": "f1cbc68a",
   "metadata": {},
   "source": [
    "### <span style=\"color:#32CAEC\"> 4.2. Definition of the goal </span>"
   ]
  },
  {
   "cell_type": "code",
   "execution_count": null,
   "id": "47edeeae",
   "metadata": {},
   "outputs": [],
   "source": [
    "# define the goal based on the previous study of the attributes"
   ]
  },
  {
   "cell_type": "code",
   "execution_count": null,
   "id": "66f7448a",
   "metadata": {},
   "outputs": [],
   "source": []
  },
  {
   "cell_type": "markdown",
   "id": "316a885a",
   "metadata": {},
   "source": [
    "### <span style=\"color:#32CAEC\"> 4.3 Deleting the information that won't be useful for the goal </span>"
   ]
  },
  {
   "cell_type": "code",
   "execution_count": null,
   "id": "afb2f549",
   "metadata": {},
   "outputs": [],
   "source": [
    "# delete stuff like url for example"
   ]
  },
  {
   "cell_type": "code",
   "execution_count": null,
   "id": "00eb00a3",
   "metadata": {},
   "outputs": [],
   "source": []
  },
  {
   "cell_type": "markdown",
   "id": "c18d3559",
   "metadata": {},
   "source": [
    "## <span style=\"color:navy\"> 5. What does the data look like? </span>"
   ]
  },
  {
   "cell_type": "code",
   "execution_count": 7,
   "id": "b9fa85a7",
   "metadata": {},
   "outputs": [],
   "source": []
  },
  {
   "cell_type": "code",
   "execution_count": 28,
   "id": "ec8df618",
   "metadata": {},
   "outputs": [
    {
     "name": "stdout",
     "output_type": "stream",
     "text": [
      "The attribute neighbourhood_group from listings.csv is NOT contained in listings_details.csv\n"
     ]
    }
   ],
   "source": [
    "# Check if the attributes of listings.csv are contained in listings_details.csv\n",
    "for atr in listings_df.columns:\n",
    "    if(not(atr in listings_det_df)):\n",
    "        print(\"The attribute\", atr,\"from listings.csv is NOT contained in listings_details.csv\")"
   ]
  },
  {
   "cell_type": "code",
   "execution_count": null,
   "id": "26dca7fa",
   "metadata": {},
   "outputs": [],
   "source": []
  },
  {
   "cell_type": "markdown",
   "id": "477659bb",
   "metadata": {},
   "source": [
    "## <span style=\"color:navy\"> 6. Data mining </span>"
   ]
  },
  {
   "cell_type": "code",
   "execution_count": null,
   "id": "8ebe9ecc",
   "metadata": {},
   "outputs": [],
   "source": []
  },
  {
   "cell_type": "code",
   "execution_count": null,
   "id": "90c47239",
   "metadata": {},
   "outputs": [],
   "source": []
  },
  {
   "cell_type": "code",
   "execution_count": null,
   "id": "3cab66e1",
   "metadata": {},
   "outputs": [],
   "source": []
  }
 ],
 "metadata": {
  "kernelspec": {
   "display_name": "Python 3",
   "language": "python",
   "name": "python3"
  },
  "language_info": {
   "codemirror_mode": {
    "name": "ipython",
    "version": 3
   },
   "file_extension": ".py",
   "mimetype": "text/x-python",
   "name": "python",
   "nbconvert_exporter": "python",
   "pygments_lexer": "ipython3",
   "version": "3.8.8"
  }
 },
 "nbformat": 4,
 "nbformat_minor": 5
}
