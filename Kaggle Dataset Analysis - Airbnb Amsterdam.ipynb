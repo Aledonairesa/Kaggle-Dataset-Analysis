{
 "cells": [
  {
   "cell_type": "markdown",
   "id": "2119a133",
   "metadata": {},
   "source": [
    "# Kaggle Dataset Analysis"
   ]
  },
  {
   "cell_type": "markdown",
   "id": "00e666fc",
   "metadata": {},
   "source": [
    "### <span style=\"color:#32CAEC\"> Contents </span>\n",
    "- 0. Author Information\n",
    "- 1. Introduction\n",
    "    - 1.1 Basic information about the dataset\n",
    "    - 1.2 What is Airbnb?\n",
    "    - 1.3 About Amsterdam\n",
    "    - 1.4 Detailed information about the dataset\n",
    "- 2. The goal of this analysis"
   ]
  },
  {
   "cell_type": "markdown",
   "id": "63d38e83",
   "metadata": {},
   "source": [
    "## <span style=\"color:navy\"> Author Information </span>\n",
    "- **Full name:** Alejandro Donaire Salvador\n",
    "- **University ID (NIU):** 1600697\n",
    "- **Personal e-mail:** aledonairesa@gmail.com"
   ]
  },
  {
   "cell_type": "markdown",
   "id": "8f55f085",
   "metadata": {},
   "source": [
    "## <span style=\"color:navy\"> 1. Introduction </span>\n",
    "\n",
    "### <span style=\"color:#32CAEC\"> 1.1 Basic information about the dataset </span>\n",
    "\n",
    "The dataset is called \"Airbnb Amsterdam\" and can be found here: https://www.kaggle.com/datasets/erikbruin/airbnb-amsterdam. The data dates from December 6th, 2018 and comes from http://insideairbnb.com/. It weighs about 0.4GB and has been downloaded +4000 times in Kaggle as per November 2022.\n",
    "\n",
    "### <span style=\"color:#32CAEC\"> 1.2 What is Airbnb? </span>\n",
    "\n",
    "Airbnb is a **public company** that manages an **online marketplace** (a type of e-commerce) focused on **short-term homestays and experiences**. It is based in San Francisco, California, and was founded in 2008 by Brian Chesky and others. It currently serves worldwide and **accounts for more than 20% of the vacation rental industry** as a whole. *Sources: https://en.wikipedia.org/wiki/Airbnb and https://hospitable.com/competitors-for-airbnb/*.\n",
    "\n",
    "Here's its logo:\n",
    "<img src=\"airbnblogo.png\" alt=\"drawing\" width=\"250\"/>\n",
    "\n",
    "### <span style=\"color:#32CAEC\"> 1.3 About Amsterdam </span>\n",
    "\n",
    "Amsterdam is the **capital and most populous city of the Netherlands** (northwestern Europe). Its **population is about 910k** people as per the city proper and has a large number of canals and bodies of water. Its climate is oceanic, meaning that it's humid, the summers are cool (about 20ºC), the winters are mild (about 5ºC) and the annual temperature is relatively narrow. *Sources: https://en.wikipedia.org/wiki/Amsterdam and https://www.wolframalpha.com/input?key=&i=climate+Amsterdam*.\n",
    "\n",
    "Here's a picture of the map of Amsterdam with Airbnb home/apartments (red dots) and private rooms (green dots) as per September 2022 (*Source: http://insideairbnb.com/amsterdam*):\n",
    "\n",
    "<img src=\"amsterdamairbnb.png\" alt=\"drawing\" width=\"450\"/>\n",
    "\n",
    "### <span style=\"color:#32CAEC\"> 1.4 Detailed information about the dataset </span>\n",
    "\n",
    "The entire dataset consists of **6 `.csv` files**:\n",
    "- `listings.csv`\n",
    "- `listings_details.csv`\n",
    "- `calendar.csv`\n",
    "- `neighbourhoods.csv`\n",
    "- `reviews.csv`\n",
    "- `reviews_details.csv`\n",
    "\n",
    "We review each one in more detail now:\n",
    "\n",
    "**`listings.csv`**:\n",
    "\n",
    "All the advertisements in Amsterdam on December 6th 2018. It includes 20030 observations (advertisements) and 16 different attributes. The attributes are:\n",
    "- **id**\n",
    "- **name**\n",
    "- **host_id**\n",
    "- **host_name**\n",
    "- **neighbourhood_group**\n",
    "- **neighbourhood**\n",
    "- **latitude**\n",
    "- **longitude**\n",
    "- **room_type**\n",
    "- **price**\n",
    "- **minimum_nights**\n",
    "- **number_of_reviews**\n",
    "- **last_review**\n",
    "- **reviews_per_month**\n",
    "- **calculated_host_listings_count**\n",
    "- **availability_365**\n",
    "\n",
    "An advertisement can look like this in the official webpage (https://www.airbnb.com/amsterdam):\n",
    "\n",
    "<img src=\"advertisementairbnb.png\" alt=\"drawing\" width=\"250\"/>\n",
    "\n",
    "We can readily see its name, the number of reviews and the price per night among other pieces of information.\n",
    "\n",
    "\n",
    "**`listings_details.csv`**:\n",
    "\n",
    "An extension of `listings.csv`: more atributes corresponding to the advertisements in Amsterdam on December 6th 2018. It includes 20030 observations and 96 different attributes. All the atributes of `listings.csv` except \"neighbourhood_group\" are included in `listings_details.csv`. But since \"neighbourhood_group\" is a column with a 100% of NaNs, then in practice we can say that `listings.csv` is completely contained in `listings_details.csv`.  Some of the new attributes are:\n",
    "\n",
    "- **experiences_offered**\n",
    "- **house_rules**\n",
    "- **instant_bookable**\n",
    "- +93 attributes\n",
    "\n",
    "**`calendar.csv`**:\n",
    "\n",
    "It has 365 records for each listing (advertisement). It specifies whether the listing is available on a particular day (365 days ahead), and the price on that day. It consists of 7310950 observations (7.3M) and 4 attributes. The attributes are:\n",
    "\n",
    "- **listing_id**\n",
    "- **date**\n",
    "- **available**\n",
    "- **price**\n",
    "\n",
    "**`neighbourhoods.csv`**:\n",
    "\n",
    "\n",
    "**`reviews.csv`**:\n",
    "\n",
    "\n",
    "**`reviews_details.csv`**:\n",
    "\n"
   ]
  },
  {
   "cell_type": "markdown",
   "id": "5125c7a4",
   "metadata": {},
   "source": [
    "## <span style=\"color:navy\"> 2. The goal of this analysis </span>"
   ]
  },
  {
   "cell_type": "code",
   "execution_count": null,
   "id": "c42d4d51",
   "metadata": {},
   "outputs": [],
   "source": []
  },
  {
   "cell_type": "markdown",
   "id": "c18d3559",
   "metadata": {},
   "source": [
    "## <span style=\"color:navy\"> 3. A first visualization of the data </span>"
   ]
  },
  {
   "cell_type": "markdown",
   "id": "6e87cd53",
   "metadata": {},
   "source": [
    "### <span style=\"color:#32CAEC\"> 3.1 Import of the libraries </span>"
   ]
  },
  {
   "cell_type": "code",
   "execution_count": 30,
   "id": "b9fa85a7",
   "metadata": {},
   "outputs": [],
   "source": [
    "import numpy as np\n",
    "import pandas as pd\n",
    "np.warnings.filterwarnings('ignore')"
   ]
  },
  {
   "cell_type": "markdown",
   "id": "7344e475",
   "metadata": {},
   "source": [
    "### <span style=\"color:#32CAEC\"> 3.2 Data reading </span>"
   ]
  },
  {
   "cell_type": "code",
   "execution_count": 32,
   "id": "245a526e",
   "metadata": {},
   "outputs": [],
   "source": [
    "listings_df = pd.read_csv(\"listings.csv\", sep=\",\")\n",
    "listings_det_df = pd.read_csv(\"listings_details.csv\", sep=\",\") \n",
    "calendar_df = pd.read_csv(\"calendar.csv\", sep=\",\")\n",
    "neigh_df = pd.read_csv(\"neighbourhoods.csv\", sep=\",\")\n",
    "reviews_df = pd.read_csv(\"reviews.csv\", sep=\",\")\n",
    "reviews_det_df = pd.read_csv(\"reviews_details.csv\", sep=\",\")"
   ]
  },
  {
   "cell_type": "code",
   "execution_count": 33,
   "id": "894a55d2",
   "metadata": {},
   "outputs": [
    {
     "data": {
      "text/html": [
       "<div>\n",
       "<style scoped>\n",
       "    .dataframe tbody tr th:only-of-type {\n",
       "        vertical-align: middle;\n",
       "    }\n",
       "\n",
       "    .dataframe tbody tr th {\n",
       "        vertical-align: top;\n",
       "    }\n",
       "\n",
       "    .dataframe thead th {\n",
       "        text-align: right;\n",
       "    }\n",
       "</style>\n",
       "<table border=\"1\" class=\"dataframe\">\n",
       "  <thead>\n",
       "    <tr style=\"text-align: right;\">\n",
       "      <th></th>\n",
       "      <th>listing_id</th>\n",
       "      <th>date</th>\n",
       "      <th>available</th>\n",
       "      <th>price</th>\n",
       "    </tr>\n",
       "  </thead>\n",
       "  <tbody>\n",
       "    <tr>\n",
       "      <th>0</th>\n",
       "      <td>2818</td>\n",
       "      <td>2019-12-05</td>\n",
       "      <td>f</td>\n",
       "      <td>NaN</td>\n",
       "    </tr>\n",
       "    <tr>\n",
       "      <th>1</th>\n",
       "      <td>73208</td>\n",
       "      <td>2019-08-30</td>\n",
       "      <td>f</td>\n",
       "      <td>NaN</td>\n",
       "    </tr>\n",
       "    <tr>\n",
       "      <th>2</th>\n",
       "      <td>73208</td>\n",
       "      <td>2019-08-29</td>\n",
       "      <td>f</td>\n",
       "      <td>NaN</td>\n",
       "    </tr>\n",
       "    <tr>\n",
       "      <th>3</th>\n",
       "      <td>73208</td>\n",
       "      <td>2019-08-28</td>\n",
       "      <td>f</td>\n",
       "      <td>NaN</td>\n",
       "    </tr>\n",
       "    <tr>\n",
       "      <th>4</th>\n",
       "      <td>73208</td>\n",
       "      <td>2019-08-27</td>\n",
       "      <td>f</td>\n",
       "      <td>NaN</td>\n",
       "    </tr>\n",
       "    <tr>\n",
       "      <th>...</th>\n",
       "      <td>...</td>\n",
       "      <td>...</td>\n",
       "      <td>...</td>\n",
       "      <td>...</td>\n",
       "    </tr>\n",
       "    <tr>\n",
       "      <th>7310945</th>\n",
       "      <td>29979667</td>\n",
       "      <td>2018-12-11</td>\n",
       "      <td>t</td>\n",
       "      <td>$139.00</td>\n",
       "    </tr>\n",
       "    <tr>\n",
       "      <th>7310946</th>\n",
       "      <td>29979667</td>\n",
       "      <td>2018-12-10</td>\n",
       "      <td>t</td>\n",
       "      <td>$139.00</td>\n",
       "    </tr>\n",
       "    <tr>\n",
       "      <th>7310947</th>\n",
       "      <td>29979667</td>\n",
       "      <td>2018-12-09</td>\n",
       "      <td>t</td>\n",
       "      <td>$139.00</td>\n",
       "    </tr>\n",
       "    <tr>\n",
       "      <th>7310948</th>\n",
       "      <td>29979667</td>\n",
       "      <td>2018-12-08</td>\n",
       "      <td>t</td>\n",
       "      <td>$139.00</td>\n",
       "    </tr>\n",
       "    <tr>\n",
       "      <th>7310949</th>\n",
       "      <td>29979667</td>\n",
       "      <td>2018-12-07</td>\n",
       "      <td>t</td>\n",
       "      <td>$139.00</td>\n",
       "    </tr>\n",
       "  </tbody>\n",
       "</table>\n",
       "<p>7310950 rows × 4 columns</p>\n",
       "</div>"
      ],
      "text/plain": [
       "         listing_id        date available    price\n",
       "0              2818  2019-12-05         f      NaN\n",
       "1             73208  2019-08-30         f      NaN\n",
       "2             73208  2019-08-29         f      NaN\n",
       "3             73208  2019-08-28         f      NaN\n",
       "4             73208  2019-08-27         f      NaN\n",
       "...             ...         ...       ...      ...\n",
       "7310945    29979667  2018-12-11         t  $139.00\n",
       "7310946    29979667  2018-12-10         t  $139.00\n",
       "7310947    29979667  2018-12-09         t  $139.00\n",
       "7310948    29979667  2018-12-08         t  $139.00\n",
       "7310949    29979667  2018-12-07         t  $139.00\n",
       "\n",
       "[7310950 rows x 4 columns]"
      ]
     },
     "execution_count": 33,
     "metadata": {},
     "output_type": "execute_result"
    }
   ],
   "source": [
    "calendar_df"
   ]
  },
  {
   "cell_type": "code",
   "execution_count": 28,
   "id": "ec8df618",
   "metadata": {},
   "outputs": [
    {
     "name": "stdout",
     "output_type": "stream",
     "text": [
      "The attribute neighbourhood_group from listings.csv is NOT contained in listings_details.csv\n"
     ]
    }
   ],
   "source": [
    "# Check if the attributes of listings.csv are contained in listings_details.csv\n",
    "for atr in listings_df.columns:\n",
    "    if(not(atr in listings_det_df)):\n",
    "        print(\"The attribute\", atr,\"from listings.csv is NOT contained in listings_details.csv\")"
   ]
  },
  {
   "cell_type": "code",
   "execution_count": null,
   "id": "26dca7fa",
   "metadata": {},
   "outputs": [],
   "source": []
  }
 ],
 "metadata": {
  "kernelspec": {
   "display_name": "Python 3",
   "language": "python",
   "name": "python3"
  },
  "language_info": {
   "codemirror_mode": {
    "name": "ipython",
    "version": 3
   },
   "file_extension": ".py",
   "mimetype": "text/x-python",
   "name": "python",
   "nbconvert_exporter": "python",
   "pygments_lexer": "ipython3",
   "version": "3.8.8"
  }
 },
 "nbformat": 4,
 "nbformat_minor": 5
}
